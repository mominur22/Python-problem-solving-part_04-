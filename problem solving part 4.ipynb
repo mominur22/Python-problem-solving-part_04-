{
 "cells": [
  {
   "cell_type": "markdown",
   "id": "c54fd39a",
   "metadata": {},
   "source": [
    "# Python problem solving part : 04\n",
    "\n"
   ]
  },
  {
   "cell_type": "markdown",
   "id": "6ee74f2a",
   "metadata": {},
   "source": [
    "# 26. Print Patterns:"
   ]
  },
  {
   "cell_type": "code",
   "execution_count": null,
   "id": "469f2b2d",
   "metadata": {},
   "outputs": [],
   "source": [
    "# print a right-angled triangle\n",
    "def print_right_angled_triangle(rows):\n",
    "    for i in range(1, rows + 1):\n",
    "        for j in range(1, i + 1):\n",
    "            print(\"*\", end=\" \")\n",
    "        print()\n",
    "# print an inverted right-angled triangle\n",
    "def print_inverted_right_angled_triangle(rows):\n",
    "    for i in range(rows, 0, -1):\n",
    "        for j in range(1, i + 1):\n",
    "            print(\"*\", end=\" \")\n",
    "        print()\n",
    "\n",
    "# print a square\n",
    "def print_square(rows):\n",
    "    for i in range(1, rows + 1):\n",
    "        for j in range(1, rows + 1):\n",
    "            print(\"*\", end=\" \")\n",
    "        print()\n",
    "rows = int(input(\"Enter the number of rows: \"))\n",
    "\n",
    "# Print various patterns\n",
    "print(\"\\nRight-Angled Triangle:\")\n",
    "print_right_angled_triangle(rows)\n",
    "\n",
    "print(\"\\nInverted Right-Angled Triangle:\")\n",
    "print_inverted_right_angled_triangle(rows)\n",
    "\n",
    "print(\"\\nSquare:\")\n",
    "print_square(rows)"
   ]
  },
  {
   "cell_type": "markdown",
   "id": "e0c09403",
   "metadata": {},
   "source": [
    "# 27. Prime Number Checker:"
   ]
  },
  {
   "cell_type": "code",
   "execution_count": null,
   "id": "6e914b3b",
   "metadata": {},
   "outputs": [],
   "source": [
    "#input N\n",
    "N = int(input(\"Enter a positive integer (N): \"))\n",
    "\n",
    "# Check N is a prime number\n",
    "is_prime = True\n",
    "divisor = 2\n",
    "\n",
    "while divisor <= N // 2:\n",
    "    if N % divisor == 0:\n",
    "        is_prime = False\n",
    "        break\n",
    "    divisor += 1\n",
    "if N > 1 and is_prime:\n",
    "    print(f\"{N} is a prime number.\")\n",
    "else:\n",
    "    print(f\"{N} is not a prime number.\")"
   ]
  },
  {
   "cell_type": "markdown",
   "id": "d4fe4ccd",
   "metadata": {},
   "source": [
    "# 28. List Manipulation: "
   ]
  },
  {
   "cell_type": "code",
   "execution_count": null,
   "id": "c8fad1d3",
   "metadata": {},
   "outputs": [],
   "source": [
    "# input the list of integers\n",
    "input_list = input(\"Enter a list of integers separated by spaces: \")\n",
    "integer_list = [int(x) for x in input_list.split()]\n",
    "\n",
    "sum_of_values = 0\n",
    "average = 0.0\n",
    "maximum_value = float('-inf') \n",
    "minimum_value = float('inf')  \n",
    "# Use a for loop to calculate sum, average, maximum, and minimum\n",
    "for num in integer_list:\n",
    "    sum_of_values += num\n",
    "    if num > maximum_value:\n",
    "        maximum_value = num\n",
    "    if num < minimum_value:\n",
    "        minimum_value = num\n",
    "if integer_list:\n",
    "    average = sum_of_values / len(integer_list)\n",
    "print(f\"Sum: {sum_of_values}\")\n",
    "print(f\"Average: {average:.2f}\")\n",
    "print(f\"Maximum Value: {maximum_value}\")\n",
    "print(f\"Minimum Value: {minimum_value}\")"
   ]
  },
  {
   "cell_type": "markdown",
   "id": "f31f433c",
   "metadata": {},
   "source": [
    "# 29. Reverse String: "
   ]
  },
  {
   "cell_type": "code",
   "execution_count": null,
   "id": "729b65f0",
   "metadata": {},
   "outputs": [],
   "source": [
    "def reverse(s):\n",
    "    str = \"\"\n",
    "    for i in s:\n",
    "        str = i + str\n",
    "    return str\n",
    " \n",
    "s = \"Momin\"\n",
    " \n",
    "print(\"The original string is : \", end=\"\")\n",
    "print(s)\n",
    " \n",
    "print(\"The reversed string(using loops) is : \", end=\"\")\n",
    "print(reverse(s))"
   ]
  },
  {
   "cell_type": "markdown",
   "id": "811637ce",
   "metadata": {},
   "source": [
    "# Nested Loops:\n",
    "30. Multiplication Table:"
   ]
  },
  {
   "cell_type": "code",
   "execution_count": null,
   "id": "5b8c4e71",
   "metadata": {},
   "outputs": [],
   "source": [
    "# Use nested loops to print the multiplication table\n",
    "for i in range(1, 11):\n",
    "    for j in range(1, 11):\n",
    "        result = i * j\n",
    "        print(f\"{i} x {j} = {result}\", end=\"\\t\")\n",
    "    print() \n"
   ]
  },
  {
   "cell_type": "code",
   "execution_count": null,
   "id": "a1da4ca5",
   "metadata": {},
   "outputs": [],
   "source": []
  }
 ],
 "metadata": {
  "kernelspec": {
   "display_name": "Python 3 (ipykernel)",
   "language": "python",
   "name": "python3"
  },
  "language_info": {
   "codemirror_mode": {
    "name": "ipython",
    "version": 3
   },
   "file_extension": ".py",
   "mimetype": "text/x-python",
   "name": "python",
   "nbconvert_exporter": "python",
   "pygments_lexer": "ipython3",
   "version": "3.11.5"
  }
 },
 "nbformat": 4,
 "nbformat_minor": 5
}
